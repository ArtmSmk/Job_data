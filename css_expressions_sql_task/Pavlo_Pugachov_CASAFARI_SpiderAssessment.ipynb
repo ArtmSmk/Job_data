{
  "nbformat": 4,
  "nbformat_minor": 0,
  "metadata": {
    "colab": {
      "name": "Pavlo Pugachov_CASAFARI_SpiderAssessment.ipynb",
      "provenance": [],
      "collapsed_sections": [],
      "include_colab_link": true
    },
    "kernelspec": {
      "display_name": "Python [default]",
      "language": "python",
      "name": "python3"
    },
    "language_info": {
      "codemirror_mode": {
        "name": "ipython",
        "version": 3
      },
      "file_extension": ".py",
      "mimetype": "text/x-python",
      "name": "python",
      "nbconvert_exporter": "python",
      "pygments_lexer": "ipython3",
      "version": "3.6.6"
    }
  },
  "cells": [
    {
      "cell_type": "markdown",
      "metadata": {
        "id": "view-in-github",
        "colab_type": "text"
      },
      "source": [
        "<a href=\"https://colab.research.google.com/github/ArtmSmk/Job_data/blob/master/css_expressions_sql_task/Pavlo_Pugachov_CASAFARI_SpiderAssessment.ipynb\" target=\"_parent\"><img src=\"https://colab.research.google.com/assets/colab-badge.svg\" alt=\"Open In Colab\"/></a>"
      ]
    },
    {
      "cell_type": "markdown",
      "metadata": {
        "colab_type": "text",
        "id": "6mEGUK7rYoRC"
      },
      "source": [
        "# Casafari Take-Home Challenge - Summer Internship\n",
        "\n",
        "### Personal Identification\n",
        "Fill here your personal information to accelerate the assessment by our team:\n",
        "* Pavlo Puhachov;\n",
        "* Link to your git (or other portfolio website) and/or LinkedIn profile;\n",
        "\n",
        "### General Information\n",
        "\n",
        "The test is split in parts and it was designed to give you a complete, yet short, overview of some your daily activities as summer intern at Casafari. However, if you have time and skills, you can explore the dataset and provide us some valuable insights that will give a boost in your evaluation.\n",
        "\n",
        "**Important: You are not allowed to share this test on public repositories. If you want, use a private repository for version control.**\n",
        "\n",
        "### Guidelines\n",
        "* We expect that the test should take around 1 hour to do. However, we strongly advise you to carefully read this assignment, think about approaches and try to understand the data before diving into the questions. You are free to spend as much time on it as you want, within the timeframe given by our recruiter.\n",
        "* **You can complete this assignment working on Google Colab, or if you prefer you can download it and use it as standalone jupyter notebook and send them back**\n",
        "* In case of using this Google Colab, you'll need to download those files in [this link](https://drive.google.com/open?id=1GvESbHspNnPhRBGt-FWEG5eOWA1Pdckp) and upload it on this notebook running the cell below.\n",
        "* If you want to use some python packages that are not yet installed on this notebook, use !pip install package."
      ]
    },
    {
      "cell_type": "code",
      "metadata": {
        "colab_type": "code",
        "id": "wn82o9okMFJR",
        "colab": {
          "resources": {
            "http://localhost:8080/nbextensions/google.colab/files.js": {
              "data": "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",
              "ok": true,
              "headers": [
                [
                  "content-type",
                  "application/javascript"
                ]
              ],
              "status": 200,
              "status_text": "OK"
            }
          },
          "base_uri": "https://localhost:8080/",
          "height": 182
        },
        "outputId": "d3ae28a1-5011-40af-d02d-892d2a0d5b86"
      },
      "source": [
        "from google.colab import files\n",
        "\n",
        "uploaded = files.upload()"
      ],
      "execution_count": 15,
      "outputs": [
        {
          "output_type": "display_data",
          "data": {
            "text/html": [
              "\n",
              "     <input type=\"file\" id=\"files-f1ae656d-3a57-4b1e-a5fc-34ac1d588ef8\" name=\"files[]\" multiple disabled\n",
              "        style=\"border:none\" />\n",
              "     <output id=\"result-f1ae656d-3a57-4b1e-a5fc-34ac1d588ef8\">\n",
              "      Upload widget is only available when the cell has been executed in the\n",
              "      current browser session. Please rerun this cell to enable.\n",
              "      </output>\n",
              "      <script src=\"/nbextensions/google.colab/files.js\"></script> "
            ],
            "text/plain": [
              "<IPython.core.display.HTML object>"
            ]
          },
          "metadata": {
            "tags": []
          }
        },
        {
          "output_type": "stream",
          "text": [
            "Saving agents.csv to agents.csv\n",
            "Saving listing.html to listing.html\n",
            "Saving properties.csv to properties.csv\n",
            "Saving sample.json to sample.json\n"
          ],
          "name": "stdout"
        }
      ]
    },
    {
      "cell_type": "markdown",
      "metadata": {
        "colab_type": "text",
        "id": "LT_oz7zmYwoL"
      },
      "source": [
        "# Data Extraction (CSS + REGEX)\n",
        "\n",
        "Casafari tracks the entire real estate market by aggregating properties from thousands of different websites. The first step of this process is to collect all the relevant information using web crawlers. This task will give a brief overview of how this extraction is made. \n",
        "\n",
        "The step consists of 3 parts, which will evaluate your skills in CSS3 selectors and regular expressions knowledge, which are essential to data extraction processes. We believe that even if you do not have previous knowledge of CSS, HTML and REGEX, you should be able to complete this task in less than a hour. There are many tutorials and informations on how to use CSS3 selectors and regular expressions to extract data. Do not be afraid to google it! This task is also a evaluation of your learning capabilities.\n",
        "\n",
        "The normal questions already have some examples and can be solved only by filling the CSS3 selectors or the regular expressions in the given space. You can check if you have the correct results by running the pre-made script after it. However, if you feel comfortable, you can use another python package and rewrite the script in a similar way to extract the data.\n",
        "\n",
        "For the extra challenges, you'll need to construct the scripts from scratch."
      ]
    },
    {
      "cell_type": "markdown",
      "metadata": {
        "colab_type": "text",
        "id": "D58kOtOXjrR7"
      },
      "source": [
        "#### Task 1:\n",
        "\n",
        "For the following task, use the _listing.html_ file, which represents a listings for a property. Open the HTML file on your browser, investigate it with the Inspect tool, view the source code and explore it. \n",
        "After that, fill the CSS3 selectors in the following script to extract the following information about this property:\n",
        "\n",
        "* Number of bathrooms\n",
        "* Number of bedrooms\n",
        "* Living Area\n",
        "* Energy Rating\n",
        "* Description\n",
        "* Agent Name\n",
        "* Extract the location of the property"
      ]
    },
    {
      "cell_type": "code",
      "metadata": {
        "colab_type": "code",
        "id": "_ubceG6_rEek",
        "colab": {
          "base_uri": "https://localhost:8080/",
          "height": 54
        },
        "outputId": "577cd0d8-320c-4e93-a775-5ef211416266"
      },
      "source": [
        "!pip install lxml\n",
        "!pip install cssselect"
      ],
      "execution_count": 18,
      "outputs": [
        {
          "output_type": "stream",
          "text": [
            "Requirement already satisfied: lxml in /usr/local/lib/python3.6/dist-packages (4.2.6)\n",
            "Requirement already satisfied: cssselect in /usr/local/lib/python3.6/dist-packages (1.1.0)\n"
          ],
          "name": "stdout"
        }
      ]
    },
    {
      "cell_type": "code",
      "metadata": {
        "colab_type": "code",
        "id": "Cqba2Ye43Hyy",
        "colab": {}
      },
      "source": [
        "# EXAMPLE SELECTOR TO EXTRACT THE PROPERTY TYPE\n",
        "Selector_Example = \"h1.lbl_titulo\""
      ],
      "execution_count": 19,
      "outputs": []
    },
    {
      "cell_type": "code",
      "metadata": {
        "colab_type": "code",
        "id": "-UYR51QwrYWW",
        "colab": {
          "base_uri": "https://localhost:8080/",
          "height": 35
        },
        "outputId": "3d490d6a-d899-4cc1-d779-3fed31ccfe9a"
      },
      "source": [
        "# EXAMPLE CODE, RUN TO CHECK THE EXAMPLE SELECTOR \n",
        "\n",
        "from lxml import html,etree\n",
        "\n",
        "with open(r'listing.html', \"r\") as f:\n",
        "    page = f.read()\n",
        "tree = html.fromstring(page)\n",
        "\n",
        "print('Example -> Property type: {}'.format(tree.cssselect(Selector_Example)[0].text))"
      ],
      "execution_count": 20,
      "outputs": [
        {
          "output_type": "stream",
          "text": [
            "Example -> Property type: 3 Bedroom House\n"
          ],
          "name": "stdout"
        }
      ]
    },
    {
      "cell_type": "markdown",
      "metadata": {
        "colab_type": "text",
        "id": "M7MJswrmP89Z"
      },
      "source": [
        "Now that you understand the example, just fill the CSS selectors here and check it by running the below cells:"
      ]
    },
    {
      "cell_type": "code",
      "metadata": {
        "colab_type": "code",
        "id": "o-2ra_gioTOy",
        "colab": {}
      },
      "source": [
        "############## Q1 ANSWERS ##################\n",
        "Selector_1 = \"ul.bloco-dados li:nth-child(4)>span\"\n",
        "Selector_2 = \"ul.bloco-dados li:nth-child(5)>span\"\n",
        "Selector_3 = \"ul.bloco-dados li:nth-child(2)>span\"\n",
        "Selector_4 = \"ul.bloco-dados li:nth-child(6)>span\"\n",
        "Selector_5 = \"div.bloco-imovel-texto p\"\n",
        "Selector_6 = \"div.lbl_titulo\"\n",
        "Selector_7 = \"span#Cpl_lbl_morada.lbl_morada\""
      ],
      "execution_count": 21,
      "outputs": []
    },
    {
      "cell_type": "code",
      "metadata": {
        "colab_type": "code",
        "id": "AaJuBU1nqsub",
        "colab": {
          "base_uri": "https://localhost:8080/",
          "height": 276
        },
        "outputId": "1ec1e337-7a03-4519-da94-6a38abf99717"
      },
      "source": [
        "############### RUN TO CHECK YOUR ANSWERS ##################\n",
        "print('Bathrooms: {}'.format(tree.cssselect(Selector_1)[0].text))\n",
        "print('')\n",
        "print('Bedrooms: {}'.format(tree.cssselect(Selector_2)[0].text))\n",
        "print('')\n",
        "print('Living area: {}'.format(tree.cssselect(Selector_3)[0].text))\n",
        "print('')\n",
        "print('Energy Rating: {}'.format(tree.cssselect(Selector_4)[0].text))\n",
        "print('')\n",
        "print('Description: {}'.format(tree.cssselect(Selector_5)[0].text))\n",
        "print('')\n",
        "print('Agent name: {}'.format(tree.cssselect(Selector_6)[0].text))\n",
        "print('')\n",
        "print('Location: {}'.format(tree.cssselect(Selector_7)[0].text))"
      ],
      "execution_count": 22,
      "outputs": [
        {
          "output_type": "stream",
          "text": [
            "Bathrooms:  1 \n",
            "\n",
            "Bedrooms:  2 \n",
            "\n",
            "Living area:  80 m\n",
            "\n",
            "Energy Rating:  C\n",
            "\n",
            "Description: At vero eos et accusamus et iusto odio dignissimos ducimus qui blanditiis praesentium voluptatum deleniti atque corrupti quos dolores et quas molestias excepturi sint occaecati cupiditate non provident, similique sunt in culpa qui officia deserunt mollitia animi, id est laborum et dolorum fugaEt harum quidem rerum facilis est et expedita distinctio.Nam libero tempore, cum soluta nobis est eligendi optio cumque nihil impedit quo minus id quod maxime placeat facere possimus, omnis voluptas assumenda est, omnis dolor repellendus.\n",
            "\n",
            "Agent name: Agent John Doe\n",
            "\n",
            "Location: Portugal, Lisboa, Estrela, Lapa\n"
          ],
          "name": "stdout"
        }
      ]
    },
    {
      "cell_type": "markdown",
      "metadata": {
        "colab_type": "text",
        "id": "__U3ndDeRbt6"
      },
      "source": [
        "__Extra Challenge 1__:\n",
        "\n",
        "Write from scratch a script to extract all the features of the property and print each one splitting them by comma (e.g: \"Garden, Gas Heating, 2 garages and Large pool\")"
      ]
    },
    {
      "cell_type": "code",
      "metadata": {
        "colab_type": "code",
        "id": "iLmuSkUFR-LA",
        "colab": {}
      },
      "source": [
        "############### WRITE THE SCRIPT TO SOLVE THE EXTRA CHALLENGE HERE ##################"
      ],
      "execution_count": null,
      "outputs": []
    },
    {
      "cell_type": "markdown",
      "metadata": {
        "colab_type": "text",
        "id": "5CX07lJog1Jv"
      },
      "source": [
        "#### Task 2:\n",
        "In the second part you will still have to use the html file. However, this time, you should use regular expressions to extract the following data from the webpage:\n",
        "\n",
        "* The agent telephone number\n",
        "* The property price"
      ]
    },
    {
      "cell_type": "code",
      "metadata": {
        "colab_type": "code",
        "id": "ANpQ4SvPSvpg",
        "colab": {}
      },
      "source": [
        "# REGEXP EXAMPLE TO EXTRACT THE AGENT EMAIL\n",
        "Regexp_Example = r\"\\\">(.*?@.*?)<\""
      ],
      "execution_count": 23,
      "outputs": []
    },
    {
      "cell_type": "code",
      "metadata": {
        "colab_type": "code",
        "id": "6mPc9TCF2jOx",
        "colab": {
          "base_uri": "https://localhost:8080/",
          "height": 35
        },
        "outputId": "20f66e29-e60f-4641-dcac-13564f6d84a9"
      },
      "source": [
        "# RUN TO CHECK THE EXAMPLE RESULTS\n",
        "import re\n",
        "\n",
        "with open(r'listing.html', \"r\") as f:\n",
        "    page = f.read()\n",
        "\n",
        "print(\"Email extracted: {}\".format(re.findall(Regexp_Example, page)[0]))"
      ],
      "execution_count": 24,
      "outputs": [
        {
          "output_type": "stream",
          "text": [
            "Email extracted: casatest@casa.pt\n"
          ],
          "name": "stdout"
        }
      ]
    },
    {
      "cell_type": "code",
      "metadata": {
        "colab_type": "code",
        "id": "6z_yGAIm8uyC",
        "colab": {}
      },
      "source": [
        "# WRITE YOUR REGULAR EXPRESSIONS HERE\n",
        "Regexp_1 = r\"(\\d{4}?-\\d{4}?)\"\n",
        "Regexp_2 = r\"\\d{,3}?\\.\\d{,3}?\\.\\d{,3}?\\s€\""
      ],
      "execution_count": 39,
      "outputs": []
    },
    {
      "cell_type": "code",
      "metadata": {
        "colab_type": "code",
        "id": "nRZMlLL8r0Pc",
        "colab": {
          "base_uri": "https://localhost:8080/",
          "height": 72
        },
        "outputId": "85a411bb-9505-4697-e276-95e126f1d73e"
      },
      "source": [
        "############### RUN TO CHECK YOUR ANSWERS ##################\n",
        "print(\"Agent Phone Number: {}\".format(re.findall(Regexp_1, page)[0]))\n",
        "print('')\n",
        "print(\"Property price: {}\".format(re.findall(Regexp_2, page)[0]))"
      ],
      "execution_count": 41,
      "outputs": [
        {
          "output_type": "stream",
          "text": [
            "Agent Phone Number: 0800-1111\n",
            "\n",
            "Property price: 1.500.000 €\n"
          ],
          "name": "stdout"
        }
      ]
    },
    {
      "cell_type": "markdown",
      "metadata": {
        "colab_type": "text",
        "id": "o4DbKPVDSk8w"
      },
      "source": [
        "__Extra Challenge 2:__\n",
        "* Extract latitude and longitude value from html __(those values are in the html code, but are not shown on the page__)"
      ]
    },
    {
      "cell_type": "code",
      "metadata": {
        "colab_type": "code",
        "id": "o5AylkERSo6F",
        "colab": {}
      },
      "source": [
        "############### WRITE THE SCRIPT TO SOLVE THE EXTRA CHALLENGE HERE ##################"
      ],
      "execution_count": null,
      "outputs": []
    },
    {
      "cell_type": "markdown",
      "metadata": {
        "colab_type": "text",
        "id": "DxAqykAnY22Q"
      },
      "source": [
        "#### Task 3:\n",
        "For the last task,  use the *sample.json* file. This file contains JSON that has a list of objects inside. Open the file in a code editor, try to identify some pattern on it and check it's structure first. Each object is under unique ID: \n",
        "\n",
        "\n",
        "\n",
        "\n",
        "{ \n",
        "\n",
        "\"SV350\": { ... // data, describing the object ... }, \n",
        "\n",
        "\"fKDFI3\": { ... // data, describing the object ... },\n",
        "\n",
        "...\n",
        "\n",
        "\"38shF\": { ... // data, describing the object ... } \n",
        "\n",
        "}\n",
        "\n",
        "\n",
        "\n",
        "\n",
        "Therefore, you need to write one regular expression to extract the following information:\n",
        "* Every unique ID on this file (for example, the first unique ID should be NC065 and the last should be NN574). \n",
        "\n",
        "Hint: The length of your list should be 211"
      ]
    },
    {
      "cell_type": "code",
      "metadata": {
        "colab_type": "code",
        "id": "VPI6oVuXURc7",
        "colab": {}
      },
      "source": [
        "# WRITE YOUR REGULAR EXPRESSION HERE\n",
        "Regexp_JSON = r\"(\\\"[A-Z]{2}\\d{3}?\\\":)\""
      ],
      "execution_count": 61,
      "outputs": []
    },
    {
      "cell_type": "code",
      "metadata": {
        "colab_type": "code",
        "id": "Sa6N56T4kBx7",
        "colab": {
          "base_uri": "https://localhost:8080/",
          "height": 90
        },
        "outputId": "d6af381c-f2c0-409c-c921-a3de7941d56c"
      },
      "source": [
        "with open(r'sample.json', \"r\") as f:\n",
        "    json = f.read()\n",
        "\n",
        "print('----- Expressions extracted -----')\n",
        "print(\"First unique id: {}\".format(re.findall(Regexp_JSON, json)[0]))\n",
        "print(\"Last unique id: {}\".format(re.findall(Regexp_JSON, json)[-1]))\n",
        "print(\"Length of list of unique ids: {}\".format(len(re.findall(Regexp_JSON, json))))"
      ],
      "execution_count": 62,
      "outputs": [
        {
          "output_type": "stream",
          "text": [
            "----- Expressions extracted -----\n",
            "First unique id: \"NC065\":\n",
            "Last unique id: \"NN574\":\n",
            "Length of list of unique ids: 211\n"
          ],
          "name": "stdout"
        }
      ]
    },
    {
      "cell_type": "markdown",
      "metadata": {
        "colab_type": "text",
        "id": "TBgy4nEtueI-"
      },
      "source": [
        "__Extra Challenge 3:__\n",
        "* Do you see a better option than use regex to extract this expression ? How would you structure it ?"
      ]
    },
    {
      "cell_type": "markdown",
      "metadata": {
        "colab_type": "text",
        "id": "YwNzVMIwadT-"
      },
      "source": [
        "# Data Querying (SQL)\n",
        "\n",
        "You have now collected the data, and cleaned it.  It was published in Casafari database and you have to query the data in order to prepare it for analysis. \n",
        "\n",
        "To solve this problem consider the data set provided in _properties.csv_ and _agents.csv_ to test your queries. As before, please fill in your queries in the cells provided (double click the blank cells to fill them in). \n",
        "\n",
        "In this task we just want to evaluate your knowledge of SQL syntax, so keep it simple. Do not try to overclean the data in this task.\n",
        "\n",
        "### Questions:\n",
        "- (Q1) Write a query to extract only listings with a property type “quinta” or “house”;\n",
        "- (Q2) Write a query to extract only listings of properties with a pool;\n",
        "- (Q3) Write a query calculating the average price per square meter of all apartments in Nagüeles.\n",
        "\n",
        "#### HINT:\n",
        "Assume that location names and property type can be found only within the title."
      ]
    },
    {
      "cell_type": "markdown",
      "metadata": {
        "colab_type": "text",
        "id": "ZMiufR188DzQ"
      },
      "source": [
        "Query 1:\n",
        "``` **mysql**\n",
        "\n",
        "SELECT *\n",
        "FROM properties\n",
        "WHERE LOCATE('house',title)!=0 OR LOCATE('quinta',title)!=0;\n",
        "\n",
        "```"
      ]
    },
    {
      "cell_type": "markdown",
      "metadata": {
        "colab_type": "text",
        "id": "RB-PnF489SmC"
      },
      "source": [
        "Query 2:\n",
        "``` **mysql**\n",
        "SELECT *\n",
        "FROM properties\n",
        "WHERE LOCATE('pool',features)!=0;\n",
        "\n",
        "\n",
        "\n",
        "```"
      ]
    },
    {
      "cell_type": "markdown",
      "metadata": {
        "colab_type": "text",
        "id": "lgzd0mTe9U9O"
      },
      "source": [
        "Query 3:\n",
        "``` **mysql**\n",
        "SELECT AVG(id)/AVG(num) as average_price_per_meter\n",
        "FROM properties\n",
        "WHERE LOCATE('apartment',title)!=0 AND LOCATE('Nagüeles',title)!=0;\n",
        "\n",
        "```"
      ]
    }
  ]
}